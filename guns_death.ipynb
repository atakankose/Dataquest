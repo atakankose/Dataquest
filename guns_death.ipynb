{
 "cells": [
  {
   "cell_type": "markdown",
   "metadata": {
    "collapsed": true
   },
   "source": [
    "# Introducing US Gun Deaths Data"
   ]
  },
  {
   "cell_type": "markdown",
   "metadata": {},
   "source": [
    "# Removing Headers From A List Of Lists"
   ]
  },
  {
   "cell_type": "code",
   "execution_count": 17,
   "metadata": {
    "collapsed": true
   },
   "outputs": [],
   "source": [
    "import csv\n",
    "\n",
    "with open(\"guns.csv\", \"r\") as f:\n",
    "    reader = csv.reader(f)\n",
    "    data = list(reader)\n",
    "    data = data[1:]"
   ]
  },
  {
   "cell_type": "code",
   "execution_count": 18,
   "metadata": {
    "scrolled": true
   },
   "outputs": [
    {
     "name": "stdout",
     "output_type": "stream",
     "text": [
      "[['1', '2012', '01', 'Suicide', '0', 'M', '34', 'Asian/Pacific Islander', '100', 'Home', '4'], ['2', '2012', '01', 'Suicide', '0', 'F', '21', 'White', '100', 'Street', '3'], ['3', '2012', '01', 'Suicide', '0', 'M', '60', 'White', '100', 'Other specified', '4'], ['4', '2012', '02', 'Suicide', '0', 'M', '64', 'White', '100', 'Home', '4']]\n"
     ]
    }
   ],
   "source": [
    "print(data[0:4])"
   ]
  },
  {
   "cell_type": "code",
   "execution_count": null,
   "metadata": {
    "collapsed": true
   },
   "outputs": [],
   "source": []
  },
  {
   "cell_type": "markdown",
   "metadata": {
    "collapsed": true
   },
   "source": [
    "# Exploring Gun Deaths rate, Filtering months And intent(Homicide)\n"
   ]
  },
  {
   "cell_type": "code",
   "execution_count": 20,
   "metadata": {
    "collapsed": true,
    "scrolled": false
   },
   "outputs": [],
   "source": [
    "months = [row[2] for row in data]\n",
    "intents = [row[3] for row in data]\n",
    "\n",
    "homicide_counts_month = {}\n",
    "for i,month in enumerate(months):\n",
    "        if month not in homicide_counts_month:\n",
    "            homicide_counts_month[month] = 0\n",
    "        if intents[i] == \"Homicide\":\n",
    "            homicide_counts_month[month] += 1\n",
    "\n",
    "counts_death_of_month={}\n",
    "for row in data:\n",
    "    month = row[2]\n",
    "    if month in counts_death_of_month:\n",
    "        counts_death_of_month[month] +=1\n",
    "    else:\n",
    "        counts_death_of_month[month] = 1\n",
    "    \n",
    "month_per_hundredk={}    \n",
    "for m,v in homicide_counts_month.items():\n",
    "    month_per_hundredk[m] = (v/counts_death_of_month[m])*100000    "
   ]
  },
  {
   "cell_type": "code",
   "execution_count": 21,
   "metadata": {},
   "outputs": [
    {
     "data": {
      "text/plain": [
       "{'01': 8273,\n",
       " '02': 7093,\n",
       " '03': 8289,\n",
       " '04': 8455,\n",
       " '05': 8669,\n",
       " '06': 8677,\n",
       " '07': 8989,\n",
       " '08': 8783,\n",
       " '09': 8508,\n",
       " '10': 8406,\n",
       " '11': 8243,\n",
       " '12': 8413}"
      ]
     },
     "execution_count": 21,
     "metadata": {},
     "output_type": "execute_result"
    }
   ],
   "source": [
    "counts_death_of_month"
   ]
  },
  {
   "cell_type": "code",
   "execution_count": 22,
   "metadata": {},
   "outputs": [
    {
     "data": {
      "text/plain": [
       "{'01': 2829,\n",
       " '02': 2178,\n",
       " '03': 2780,\n",
       " '04': 2845,\n",
       " '05': 2976,\n",
       " '06': 3130,\n",
       " '07': 3269,\n",
       " '08': 3125,\n",
       " '09': 2966,\n",
       " '10': 2968,\n",
       " '11': 2919,\n",
       " '12': 3191}"
      ]
     },
     "execution_count": 22,
     "metadata": {},
     "output_type": "execute_result"
    }
   ],
   "source": [
    "homicide_counts_month"
   ]
  },
  {
   "cell_type": "code",
   "execution_count": 23,
   "metadata": {},
   "outputs": [
    {
     "data": {
      "text/plain": [
       "{'01': 34195.57597002297,\n",
       " '02': 30706.33018468913,\n",
       " '03': 33538.42441790325,\n",
       " '04': 33648.72856298048,\n",
       " '05': 34329.21905640789,\n",
       " '06': 36072.375244900315,\n",
       " '07': 36366.67037490266,\n",
       " '08': 35580.09791642946,\n",
       " '09': 34861.307005171606,\n",
       " '10': 35308.113252438736,\n",
       " '11': 35411.8646123984,\n",
       " '12': 37929.39498395341}"
      ]
     },
     "execution_count": 23,
     "metadata": {},
     "output_type": "execute_result"
    }
   ],
   "source": [
    "month_per_hundredk"
   ]
  },
  {
   "cell_type": "markdown",
   "metadata": {
    "collapsed": true
   },
   "source": [
    "# Exploring Gun Deaths rate, Filtering gender And intent(Homicide)#\n"
   ]
  },
  {
   "cell_type": "code",
   "execution_count": 25,
   "metadata": {
    "collapsed": true
   },
   "outputs": [],
   "source": [
    "genders = [row[5] for row in data]"
   ]
  },
  {
   "cell_type": "code",
   "execution_count": 26,
   "metadata": {
    "collapsed": true
   },
   "outputs": [],
   "source": [
    "homicide_numbers_by_gender = {}\n",
    "for i, gender in enumerate(genders):\n",
    "    if gender not in homicide_numbers_by_gender:\n",
    "        homicide_numbers_by_gender[gender] = 0\n",
    "    if intents[i] == \"Homicide\":\n",
    "        homicide_numbers_by_gender[gender] += 1"
   ]
  },
  {
   "cell_type": "code",
   "execution_count": 27,
   "metadata": {
    "collapsed": true
   },
   "outputs": [],
   "source": [
    "total_death_for_each_gender = {}\n",
    "for row in data:\n",
    "    gender = row[5]\n",
    "    if gender in total_death_for_each_gender:\n",
    "        total_death_for_each_gender[gender] += 1\n",
    "    else:\n",
    "         total_death_for_each_gender[gender] = 1"
   ]
  },
  {
   "cell_type": "code",
   "execution_count": 28,
   "metadata": {},
   "outputs": [
    {
     "name": "stdout",
     "output_type": "stream",
     "text": [
      "{'M': 86349, 'F': 14449}\n",
      "{'M': 29803, 'F': 5373}\n"
     ]
    }
   ],
   "source": [
    "print(total_death_for_each_gender)\n",
    "print(homicide_numbers_by_gender)\n"
   ]
  },
  {
   "cell_type": "code",
   "execution_count": 29,
   "metadata": {
    "collapsed": true
   },
   "outputs": [],
   "source": [
    "gender_per_hundredk = {}\n",
    "for gender, total in homicide_numbers_by_gender.items():\n",
    "    gender_per_hundredk[gender] = (total/total_death_for_each_gender[gender])*100000\n",
    "   "
   ]
  },
  {
   "cell_type": "code",
   "execution_count": 30,
   "metadata": {},
   "outputs": [
    {
     "data": {
      "text/plain": [
       "{'F': 37185.96442660392, 'M': 34514.58615618016}"
      ]
     },
     "execution_count": 30,
     "metadata": {},
     "output_type": "execute_result"
    }
   ],
   "source": [
    "gender_per_hundredk"
   ]
  },
  {
   "cell_type": "code",
   "execution_count": null,
   "metadata": {
    "collapsed": true
   },
   "outputs": [],
   "source": []
  }
 ],
 "metadata": {
  "kernelspec": {
   "display_name": "Python 3",
   "language": "python",
   "name": "python3"
  },
  "language_info": {
   "codemirror_mode": {
    "name": "ipython",
    "version": 3
   },
   "file_extension": ".py",
   "mimetype": "text/x-python",
   "name": "python",
   "nbconvert_exporter": "python",
   "pygments_lexer": "ipython3",
   "version": "3.6.1"
  }
 },
 "nbformat": 4,
 "nbformat_minor": 2
}
